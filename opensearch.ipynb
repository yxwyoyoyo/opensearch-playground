{
 "cells": [
  {
   "cell_type": "markdown",
   "metadata": {},
   "source": [
    "# OpenSearch Playground"
   ]
  },
  {
   "cell_type": "markdown",
   "metadata": {},
   "source": [
    "## Import packages"
   ]
  },
  {
   "cell_type": "code",
   "execution_count": 8,
   "metadata": {},
   "outputs": [],
   "source": [
    "from opensearchpy import OpenSearch, helpers\n",
    "from faker import Faker\n",
    "from faker.providers import internet, date_time"
   ]
  },
  {
   "cell_type": "markdown",
   "metadata": {},
   "source": [
    "## Create Client"
   ]
  },
  {
   "cell_type": "code",
   "execution_count": 6,
   "metadata": {},
   "outputs": [
    {
     "name": "stdout",
     "output_type": "stream",
     "text": [
      "1646816660 09:04:20 opensearch-cluster green 2 2 true 10 5 0 0 0 0 - 100.0%\n",
      "\n"
     ]
    }
   ],
   "source": [
    "host = 'localhost'\n",
    "port = 9200\n",
    "auth = ('admin', 'admin')\n",
    "client = OpenSearch(\n",
    "    hosts = [{'host': host, 'port': port}],\n",
    "    http_compression = True,\n",
    "    http_auth = auth,\n",
    "    use_ssl = True,\n",
    "    verify_certs = False,\n",
    "    ssl_show_warn = False\n",
    ")\n",
    "health = client.cat.health()\n",
    "print(health)\n"
   ]
  },
  {
   "cell_type": "markdown",
   "metadata": {},
   "source": [
    "## Define constants"
   ]
  },
  {
   "cell_type": "code",
   "execution_count": null,
   "metadata": {},
   "outputs": [],
   "source": [
    "template_name = 'logs-hss'\n",
    "template_body = {\n",
    "    'index_patterns': [\n",
    "        'logs-hss'\n",
    "    ],\n",
    "    'data_stream': {},\n",
    "    'priority': 100\n",
    "}"
   ]
  },
  {
   "cell_type": "markdown",
   "metadata": {},
   "source": [
    "## Create index template and data stream"
   ]
  },
  {
   "cell_type": "code",
   "execution_count": 7,
   "metadata": {},
   "outputs": [
    {
     "name": "stdout",
     "output_type": "stream",
     "text": [
      "{'index_templates': [{'name': 'logs-hss', 'index_template': {'index_patterns': ['logs-hss'], 'priority': 100, 'data_stream': {'timestamp_field': {'name': '@timestamp'}}}}]}\n",
      "{'data_streams': [{'name': 'logs-hss', 'timestamp_field': {'name': '@timestamp'}, 'indices': [{'index_name': '.ds-logs-hss-000001', 'index_uuid': 'c99Mg1rwTeu-jJmFqH8eRg'}], 'generation': 1, 'status': 'YELLOW', 'template': 'logs-hss'}]}\n"
     ]
    }
   ],
   "source": [
    "create_index_template_result = client.indices.put_index_template(template_name, template_body)\n",
    "get_index_template_result = client.indices.get_index_template(template_name)\n",
    "print(get_index_template_result)\n",
    "\n",
    "create_data_stream_result = client.indices.create_data_stream(template_name)\n",
    "get_data_stream_result = client.indices.get_data_stream(template_name)\n",
    "print(get_data_stream_result)"
   ]
  },
  {
   "cell_type": "markdown",
   "metadata": {},
   "source": [
    "## Ingest data to data stream"
   ]
  },
  {
   "cell_type": "code",
   "execution_count": 12,
   "metadata": {},
   "outputs": [
    {
     "name": "stdout",
     "output_type": "stream",
     "text": [
      "(1000, [])\n"
     ]
    }
   ],
   "source": [
    "fake = Faker()\n",
    "fake.add_provider(internet)\n",
    "fake.add_provider(date_time)\n",
    "\n",
    "logs = []\n",
    "for _ in range(1_000):\n",
    "    data = {\n",
    "        'name': fake.name(),\n",
    "        'address': fake.address(),\n",
    "        'phone_number': fake.phone_number(),\n",
    "        'email': fake.email(),\n",
    "        'ip_address': fake.ipv4(),\n",
    "        '@timestamp': fake.date_time_this_month()\n",
    "    }\n",
    "    logs.append({\n",
    "        '_index': template_name,\n",
    "        '_op_type': 'create',\n",
    "        '_source': data\n",
    "    })\n",
    "\n",
    "bulk_result = helpers.bulk(client=client, actions=logs)\n",
    "print(bulk_result)"
   ]
  },
  {
   "cell_type": "markdown",
   "metadata": {},
   "source": [
    "## Show data stream"
   ]
  },
  {
   "cell_type": "code",
   "execution_count": 13,
   "metadata": {},
   "outputs": [
    {
     "name": "stdout",
     "output_type": "stream",
     "text": [
      "{'_shards': {'total': 2, 'successful': 2, 'failed': 0}, 'data_stream_count': 1, 'backing_indices': 1, 'total_store_size_bytes': 970516, 'data_streams': [{'data_stream': 'logs-hss', 'backing_indices': 1, 'store_size_bytes': 970516, 'maximum_timestamp': 1646848022000}]}\n"
     ]
    }
   ],
   "source": [
    "data_stream_stats_result = client.indices.data_streams_stats(name=template_name)\n",
    "print(data_stream_stats_result)"
   ]
  },
  {
   "cell_type": "markdown",
   "metadata": {},
   "source": [
    "## Clean up"
   ]
  },
  {
   "cell_type": "code",
   "execution_count": null,
   "metadata": {},
   "outputs": [],
   "source": [
    "client.indices.delete_index_template(template_name)\n",
    "client.indices.delete_data_stream(template_name)"
   ]
  }
 ],
 "metadata": {
  "interpreter": {
   "hash": "9d6318217be9a14263618779cbcfd9283e9d41f6dba0e4339060012e98d0ea7f"
  },
  "kernelspec": {
   "display_name": "Python 3.9.4 64-bit ('3.9.4')",
   "language": "python",
   "name": "python3"
  },
  "language_info": {
   "codemirror_mode": {
    "name": "ipython",
    "version": 3
   },
   "file_extension": ".py",
   "mimetype": "text/x-python",
   "name": "python",
   "nbconvert_exporter": "python",
   "pygments_lexer": "ipython3",
   "version": "3.9.4"
  },
  "orig_nbformat": 4
 },
 "nbformat": 4,
 "nbformat_minor": 2
}
